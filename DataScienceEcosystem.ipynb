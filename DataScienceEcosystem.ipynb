{
 "cells": [
  {
   "cell_type": "markdown",
   "id": "e8a50202",
   "metadata": {},
   "source": [
    "<img src=\"2-title.png\">\n",
    "\n",
    "# Data Science Tools and Ecosystem"
   ]
  },
  {
   "cell_type": "markdown",
   "id": "ad1f46fb",
   "metadata": {},
   "source": [
    "<img src=\"3-intro.png\">\n",
    "\n",
    "### In this notebook, Data Science Tools and Ecosystem are summarized."
   ]
  },
  {
   "cell_type": "markdown",
   "id": "80eb8f4c",
   "metadata": {},
   "source": [
    "<img src=\"10-objectives.png\">\n",
    "\n",
    "**Objectives:**\n",
    "\n",
    "* Python\n",
    "* R\n",
    "* SQL"
   ]
  },
  {
   "cell_type": "markdown",
   "id": "eec0f96f",
   "metadata": {},
   "source": [
    "<img src=\"4-dslanguages.png\">\n",
    "\n",
    "### Some of the popular languages that Data Scientists use are:\n",
    "\n",
    "1. Python\n",
    "2. R\n",
    "3. SQL"
   ]
  },
  {
   "cell_type": "markdown",
   "id": "de4794c6",
   "metadata": {},
   "source": [
    "<img src=\"5-dslibraries.png\">\n",
    "\n",
    "### Some of the commonly used libraries used by Data Scientists include:\n",
    "\n",
    "1. pandas\n",
    "2. numpy\n",
    "3. metplotlib"
   ]
  },
  {
   "cell_type": "markdown",
   "id": "8a18bc2a",
   "metadata": {},
   "source": [
    "<img src=\"6-dstools.png\">\n",
    "\n",
    "### Data Science tools\n",
    "\n",
    "| Data Science Tools |\n",
    "|--------------------|\n",
    "| Jupyter Notebook  |\n",
    "| RStudio          |\n",
    "| VS Code          |"
   ]
  },
  {
   "cell_type": "markdown",
   "id": "a17827bc",
   "metadata": {},
   "source": [
    "<img src=\"7-introarithmetic.png\">\n",
    "\n",
    "### Below are a few examples of evaluating arithmetic expressions in Python."
   ]
  },
  {
   "cell_type": "markdown",
   "id": "0232a37e",
   "metadata": {},
   "source": [
    "<img src=\"8-multiplyandaddintegers.png\">"
   ]
  },
  {
   "cell_type": "code",
   "execution_count": 32,
   "id": "e0699156",
   "metadata": {},
   "outputs": [
    {
     "data": {
      "text/plain": [
       "17"
      ]
     },
     "execution_count": 32,
     "metadata": {},
     "output_type": "execute_result"
    }
   ],
   "source": [
    "# This a simple arithmetic expression to mutiply then add integers.\n",
    "\n",
    "(3*4)+5"
   ]
  },
  {
   "cell_type": "markdown",
   "id": "068550e5",
   "metadata": {},
   "source": [
    "<img src=\"9-hourstominutes.png\">"
   ]
  },
  {
   "cell_type": "code",
   "execution_count": 33,
   "id": "e677912e",
   "metadata": {},
   "outputs": [
    {
     "data": {
      "text/plain": [
       "3.3333333333333335"
      ]
     },
     "execution_count": 33,
     "metadata": {},
     "output_type": "execute_result"
    }
   ],
   "source": [
    "# This will convert 200 minutes to hours by diving by 60\n",
    "\n",
    "200 / 60"
   ]
  },
  {
   "cell_type": "markdown",
   "id": "bccdf0bd",
   "metadata": {},
   "source": [
    "<img src=\"11-authordetails.png\">\n",
    "\n",
    "## Author\n",
    "Onkar"
   ]
  },
  {
   "cell_type": "code",
   "execution_count": null,
   "id": "323c10cb",
   "metadata": {},
   "outputs": [],
   "source": []
  }
 ],
 "metadata": {
  "kernelspec": {
   "display_name": "Python 3 (ipykernel)",
   "language": "python",
   "name": "python3"
  },
  "language_info": {
   "codemirror_mode": {
    "name": "ipython",
    "version": 3
   },
   "file_extension": ".py",
   "mimetype": "text/x-python",
   "name": "python",
   "nbconvert_exporter": "python",
   "pygments_lexer": "ipython3",
   "version": "3.9.12"
  }
 },
 "nbformat": 4,
 "nbformat_minor": 5
}
